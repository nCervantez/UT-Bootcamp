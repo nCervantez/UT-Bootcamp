{
 "cells": [
  {
   "cell_type": "markdown",
   "metadata": {},
   "source": [
    "# Geoapify Places Demo"
   ]
  },
  {
   "cell_type": "code",
   "execution_count": 2,
   "metadata": {
    "tags": []
   },
   "outputs": [],
   "source": [
    "# Dependencies\n",
    "import requests\n",
    "import json\n",
    "from pprint import pprint\n",
    "# Import the API key\n",
    "from config import geoapify_key"
   ]
  },
  {
   "cell_type": "code",
   "execution_count": 3,
   "metadata": {
    "tags": []
   },
   "outputs": [
    {
     "data": {
      "text/plain": [
       "<Response [200]>"
      ]
     },
     "execution_count": 3,
     "metadata": {},
     "output_type": "execute_result"
    }
   ],
   "source": [
    "# Set the geographical coordinates for Sydney, Australia\n",
    "latitude = -33.8698439\n",
    "longitude = 151.2082848\n",
    "\n",
    "# Set the parameters for the type of place\n",
    "categories = \"catering.restaurant\"\n",
    "conditions = \"vegetarian\"\n",
    "radius = 8000\n",
    "\n",
    "# Set the parameters for the type of search\n",
    "filters = f\"circle:{longitude},{latitude},{radius}\"\n",
    "bias = f\"proximity:{longitude},{latitude}\"\n",
    "limit = 20\n",
    "\n",
    "# set up a parameters dictionary\n",
    "params = {\n",
    "    \"categories\":categories,\n",
    "    \"conditions\":conditions,\n",
    "    \"limit\":limit,\n",
    "    \"filter\":filters,\n",
    "    \"bias\":bias,\n",
    "    \"apiKey\":geoapify_key    \n",
    "}\n",
    "\n",
    "# Set base URL\n",
    "base_url = \"https://api.geoapify.com/v2/places\"\n",
    "\n",
    "# run a request using our params dictionary\n",
    "response = requests.get(base_url, params=params)\n",
    "response"
   ]
  },
  {
   "cell_type": "code",
   "execution_count": 4,
   "metadata": {
    "tags": []
   },
   "outputs": [
    {
     "name": "stdout",
     "output_type": "stream",
     "text": [
      "https://api.geoapify.com/v2/places?categories=catering.restaurant&conditions=vegetarian&limit=20&filter=circle%3A151.2082848%2C-33.8698439%2C8000&bias=proximity%3A151.2082848%2C-33.8698439&apiKey=848f2699c63342999181963829ffc10a\n"
     ]
    }
   ],
   "source": [
    "# print the response url, avoid doing for public github repos in order to avoid exposing key\n",
    "print(response.url)"
   ]
  },
  {
   "cell_type": "code",
   "execution_count": null,
   "metadata": {
    "tags": []
   },
   "outputs": [],
   "source": [
    "# convert response to json\n",
    "places_data = response.json()\n",
    "\n",
    "# Print the json (pretty printed)\n",
    "pprint(places_data)"
   ]
  },
  {
   "cell_type": "code",
   "execution_count": null,
   "metadata": {
    "tags": []
   },
   "outputs": [],
   "source": [
    "# Print the name and address of the first restaurant that appears\n",
    "print(places_data[\"features\"][1][\"properties\"][\"name\"])\n",
    "print(places_data[\"features\"][1][\"properties\"][\"address_line2\"])"
   ]
  },
  {
   "cell_type": "code",
   "execution_count": null,
   "metadata": {},
   "outputs": [],
   "source": []
  }
 ],
 "metadata": {
  "kernelspec": {
   "display_name": "Python 3 (ipykernel)",
   "language": "python",
   "name": "python3"
  },
  "language_info": {
   "codemirror_mode": {
    "name": "ipython",
    "version": 3
   },
   "file_extension": ".py",
   "mimetype": "text/x-python",
   "name": "python",
   "nbconvert_exporter": "python",
   "pygments_lexer": "ipython3",
   "version": "3.10.11"
  },
  "latex_envs": {
   "LaTeX_envs_menu_present": true,
   "autoclose": false,
   "autocomplete": true,
   "bibliofile": "biblio.bib",
   "cite_by": "apalike",
   "current_citInitial": 1,
   "eqLabelWithNumbers": true,
   "eqNumInitial": 1,
   "hotkeys": {
    "equation": "Ctrl-E",
    "itemize": "Ctrl-I"
   },
   "labels_anchors": false,
   "latex_user_defs": false,
   "report_style_numbering": false,
   "user_envs_cfg": false
  }
 },
 "nbformat": 4,
 "nbformat_minor": 4
}
