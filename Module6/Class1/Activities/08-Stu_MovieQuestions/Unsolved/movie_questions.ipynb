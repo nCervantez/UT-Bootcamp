{
 "cells": [
  {
   "cell_type": "code",
   "execution_count": 16,
   "metadata": {
    "tags": []
   },
   "outputs": [
    {
     "data": {
      "text/plain": [
       "'&apikey=f35f6940'"
      ]
     },
     "execution_count": 16,
     "metadata": {},
     "output_type": "execute_result"
    }
   ],
   "source": [
    "# Dependencies\n",
    "import requests\n",
    "from config import api_key\n",
    "import json\n",
    "from pprint import pprint\n",
    "\n",
    "url = \"http://www.omdbapi.com/?t=\"\n",
    "api_query_parameter = \"&apikey=\" + api_key\n",
    "api_query_parameter"
   ]
  },
  {
   "cell_type": "code",
   "execution_count": 17,
   "metadata": {
    "tags": []
   },
   "outputs": [
    {
     "name": "stdout",
     "output_type": "stream",
     "text": [
      "The director of Aliens was James Cameron.\n"
     ]
    }
   ],
   "source": [
    "# Who was the director of the movie Aliens?\n",
    "response = requests.get(url + \"Aliens\" + api_query_parameter)\n",
    "data = response.json()\n",
    "director_aliens = data['Director']\n",
    "\n",
    "\n",
    "print(f\"The director of Aliens was {director_aliens}.\")"
   ]
  },
  {
   "cell_type": "code",
   "execution_count": 18,
   "metadata": {
    "scrolled": true,
    "tags": []
   },
   "outputs": [
    {
     "ename": "TypeError",
     "evalue": "'Response' object is not subscriptable",
     "output_type": "error",
     "traceback": [
      "\u001b[1;31m---------------------------------------------------------------------------\u001b[0m",
      "\u001b[1;31mTypeError\u001b[0m                                 Traceback (most recent call last)",
      "Cell \u001b[1;32mIn[18], line 6\u001b[0m\n\u001b[0;32m      1\u001b[0m \u001b[38;5;66;03m# What was the movie Gladiator rated?\u001b[39;00m\n\u001b[0;32m      2\u001b[0m \u001b[38;5;66;03m# response = requests.get(url + \"Gladiator\" + api_query_parameter)\u001b[39;00m\n\u001b[0;32m      3\u001b[0m \u001b[38;5;66;03m# data = response.json()\u001b[39;00m\n\u001b[0;32m      4\u001b[0m \u001b[38;5;66;03m# rating = data['Rated']\u001b[39;00m\n\u001b[0;32m      5\u001b[0m movie \u001b[38;5;241m=\u001b[39m requests\u001b[38;5;241m.\u001b[39mget(url \u001b[38;5;241m+\u001b[39m \u001b[38;5;124m\"\u001b[39m\u001b[38;5;124mGladiator\u001b[39m\u001b[38;5;124m\"\u001b[39m \u001b[38;5;241m+\u001b[39m api_query_parameter)\n\u001b[1;32m----> 6\u001b[0m \u001b[38;5;28mprint\u001b[39m(\u001b[38;5;124mf\u001b[39m\u001b[38;5;124m\"\u001b[39m\u001b[38;5;124mThe rating of Gladiator was \u001b[39m\u001b[38;5;132;01m{\u001b[39;00mmovie[\u001b[38;5;124m'\u001b[39m\u001b[38;5;124mRated\u001b[39m\u001b[38;5;124m'\u001b[39m]\u001b[38;5;132;01m}\u001b[39;00m\u001b[38;5;124m.\u001b[39m\u001b[38;5;124m\"\u001b[39m)\n",
      "\u001b[1;31mTypeError\u001b[0m: 'Response' object is not subscriptable"
     ]
    }
   ],
   "source": [
    "# What was the movie Gladiator rated?\n",
    "# response = requests.get(url + \"Gladiator\" + api_query_parameter)\n",
    "# data = response.json()\n",
    "# rating = data['Rated']\n",
    "movie = requests.get(url + \"Gladiator\" + api_query_parameter)\n",
    "print(f\"The rating of Gladiator was {movie['Rated']}.\")"
   ]
  },
  {
   "cell_type": "code",
   "execution_count": 10,
   "metadata": {
    "tags": []
   },
   "outputs": [
    {
     "name": "stdout",
     "output_type": "stream",
     "text": [
      "The movie 50 First Dates was released in 2004.\n"
     ]
    }
   ],
   "source": [
    "# What year was 50 First Dates released?\n",
    "response = requests.get(url + \"50 First Dates\" + api_query_parameter)\n",
    "data = response.json()\n",
    "year = data['Year']\n",
    "\n",
    "print(f\"The movie 50 First Dates was released in {year}.\")"
   ]
  },
  {
   "cell_type": "code",
   "execution_count": 11,
   "metadata": {
    "scrolled": true,
    "tags": []
   },
   "outputs": [
    {
     "name": "stdout",
     "output_type": "stream",
     "text": [
      "Moana was written by Jared Bush, Ron Clements, John Musker.\n"
     ]
    }
   ],
   "source": [
    "# Who wrote Moana?\n",
    "response = requests.get(url + \"Moana\" + api_query_parameter)\n",
    "data = response.json()\n",
    "writers = data['Writer']\n",
    "\n",
    "print(f\"Moana was written by {writers}.\")"
   ]
  },
  {
   "cell_type": "code",
   "execution_count": 14,
   "metadata": {
    "scrolled": true,
    "tags": []
   },
   "outputs": [
    {
     "name": "stdout",
     "output_type": "stream",
     "text": [
      "The plot of Sing was: In a city of humanoid animals, a hustling theater impresario's attempt to save his theater with a singing competition becomes grander than he anticipates even as its finalists find that their lives will never be the same.\n"
     ]
    }
   ],
   "source": [
    "# What was the plot of the movie Sing?\n",
    "response = requests.get(url + \"Sing\" + api_query_parameter)\n",
    "data = response.json()\n",
    "plot = data['Plot']\n",
    "\n",
    "print(f\"The plot of Sing was: {plot}\")"
   ]
  },
  {
   "cell_type": "code",
   "execution_count": null,
   "metadata": {},
   "outputs": [],
   "source": []
  }
 ],
 "metadata": {
  "kernelspec": {
   "display_name": "Python 3 (ipykernel)",
   "language": "python",
   "name": "python3"
  },
  "language_info": {
   "codemirror_mode": {
    "name": "ipython",
    "version": 3
   },
   "file_extension": ".py",
   "mimetype": "text/x-python",
   "name": "python",
   "nbconvert_exporter": "python",
   "pygments_lexer": "ipython3",
   "version": "3.10.11"
  },
  "varInspector": {
   "cols": {
    "lenName": 16,
    "lenType": 16,
    "lenVar": 40
   },
   "kernels_config": {
    "python": {
     "delete_cmd_postfix": "",
     "delete_cmd_prefix": "del ",
     "library": "var_list.py",
     "varRefreshCmd": "print(var_dic_list())"
    },
    "r": {
     "delete_cmd_postfix": ") ",
     "delete_cmd_prefix": "rm(",
     "library": "var_list.r",
     "varRefreshCmd": "cat(var_dic_list()) "
    }
   },
   "types_to_exclude": [
    "module",
    "function",
    "builtin_function_or_method",
    "instance",
    "_Feature"
   ],
   "window_display": false
  }
 },
 "nbformat": 4,
 "nbformat_minor": 4
}
