{
 "cells": [
  {
   "cell_type": "code",
   "execution_count": 1,
   "id": "73caf89f-f0d8-4398-9670-9cbff07ee4bf",
   "metadata": {
    "tags": []
   },
   "outputs": [],
   "source": [
    "import requests\n",
    "import json\n",
    "from config import api_key\n",
    "from pprint import pprint"
   ]
  },
  {
   "cell_type": "code",
   "execution_count": 2,
   "id": "76b9aa7e-03b2-4510-8a46-daccd4894483",
   "metadata": {
    "tags": []
   },
   "outputs": [
    {
     "data": {
      "text/plain": [
       "'&apikey=f35f6940'"
      ]
     },
     "execution_count": 2,
     "metadata": {},
     "output_type": "execute_result"
    }
   ],
   "source": [
    "url = \"http://www.omdbapi.com/?t=\"\n",
    "api_query_parameter = \"&apikey=\" + api_key\n",
    "api_query_parameter"
   ]
  },
  {
   "cell_type": "code",
   "execution_count": 4,
   "id": "05a00ecf-f9ca-47be-a147-2effdc236c08",
   "metadata": {
    "tags": []
   },
   "outputs": [
    {
     "data": {
      "text/plain": [
       "<Response [200]>"
      ]
     },
     "execution_count": 4,
     "metadata": {},
     "output_type": "execute_result"
    }
   ],
   "source": [
    "# Performing a GET request similar to the one we executed\n",
    "# earlier\n",
    "response = requests.get(url + \"Interstellar\" + api_query_parameter)\n",
    "response"
   ]
  },
  {
   "cell_type": "code",
   "execution_count": 5,
   "id": "c1a14f1c-a6c9-4383-8f87-c2e6daa8dea4",
   "metadata": {
    "tags": []
   },
   "outputs": [
    {
     "name": "stdout",
     "output_type": "stream",
     "text": [
      "{'Actors': 'Matthew McConaughey, Anne Hathaway, Jessica Chastain',\n",
      " 'Awards': 'Won 1 Oscar. 44 wins & 148 nominations total',\n",
      " 'BoxOffice': '$188,020,017',\n",
      " 'Country': 'United States, United Kingdom, Canada',\n",
      " 'DVD': '31 Mar 2015',\n",
      " 'Director': 'Christopher Nolan',\n",
      " 'Genre': 'Adventure, Drama, Sci-Fi',\n",
      " 'Language': 'English',\n",
      " 'Metascore': '74',\n",
      " 'Plot': 'When Earth becomes uninhabitable in the future, a farmer and ex-NASA '\n",
      "         'pilot, Joseph Cooper, is tasked to pilot a spacecraft, along with a '\n",
      "         'team of researchers, to find a new planet for humans.',\n",
      " 'Poster': 'https://m.media-amazon.com/images/M/MV5BZjdkOTU3MDktN2IxOS00OGEyLWFmMjktY2FiMmZkNWIyODZiXkEyXkFqcGdeQXVyMTMxODk2OTU@._V1_SX300.jpg',\n",
      " 'Production': 'N/A',\n",
      " 'Rated': 'PG-13',\n",
      " 'Ratings': [{'Source': 'Internet Movie Database', 'Value': '8.7/10'},\n",
      "             {'Source': 'Rotten Tomatoes', 'Value': '73%'},\n",
      "             {'Source': 'Metacritic', 'Value': '74/100'}],\n",
      " 'Released': '07 Nov 2014',\n",
      " 'Response': 'True',\n",
      " 'Runtime': '169 min',\n",
      " 'Title': 'Interstellar',\n",
      " 'Type': 'movie',\n",
      " 'Website': 'N/A',\n",
      " 'Writer': 'Jonathan Nolan, Christopher Nolan',\n",
      " 'Year': '2014',\n",
      " 'imdbID': 'tt0816692',\n",
      " 'imdbRating': '8.7',\n",
      " 'imdbVotes': '1,928,320'}\n"
     ]
    }
   ],
   "source": [
    "data = response.json()\n",
    "pprint(data)"
   ]
  },
  {
   "cell_type": "code",
   "execution_count": 6,
   "id": "c05b5c91-863b-4538-aed7-ba775db6e86e",
   "metadata": {
    "tags": []
   },
   "outputs": [
    {
     "name": "stdout",
     "output_type": "stream",
     "text": [
      "Movie was directed by Christopher Nolan.\n",
      "Movie was released in United States, United Kingdom, Canada.\n"
     ]
    }
   ],
   "source": [
    "# Print a few keys from the response JSON.\n",
    "print(f\"Movie was directed by {data['Director']}.\")\n",
    "print(f\"Movie was released in {data['Country']}.\")"
   ]
  },
  {
   "cell_type": "code",
   "execution_count": null,
   "id": "6c77239f-af0d-4e38-a623-7cb03d020bc4",
   "metadata": {},
   "outputs": [],
   "source": []
  }
 ],
 "metadata": {
  "kernelspec": {
   "display_name": "Python 3 (ipykernel)",
   "language": "python",
   "name": "python3"
  },
  "language_info": {
   "codemirror_mode": {
    "name": "ipython",
    "version": 3
   },
   "file_extension": ".py",
   "mimetype": "text/x-python",
   "name": "python",
   "nbconvert_exporter": "python",
   "pygments_lexer": "ipython3",
   "version": "3.10.11"
  }
 },
 "nbformat": 4,
 "nbformat_minor": 5
}
