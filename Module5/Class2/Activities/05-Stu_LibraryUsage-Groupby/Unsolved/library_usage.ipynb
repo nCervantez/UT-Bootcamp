{
 "cells": [
  {
   "cell_type": "code",
   "execution_count": 1,
   "metadata": {
    "tags": []
   },
   "outputs": [],
   "source": [
    "%matplotlib inline"
   ]
  },
  {
   "cell_type": "markdown",
   "metadata": {},
   "source": [
    "# Library Usage\n",
    "\n",
    "For this assignment, you will be taking Library Usage data from San Francisco and creating charts to determine which patron type checks out items from the library the most.\n",
    "\n",
    "* Import your dependencies and then import your data into a pandas data frame from the CSV within the 'Data' folder\n",
    "* Reduce the data to include only patrons who have checked out at least one item\n",
    "* Split up your data into groups based upon the 'Patron Type Definition' column\n",
    "* Chart your data using a bar graph, giving it both a title and labels for the axes"
   ]
  },
  {
   "cell_type": "code",
   "execution_count": 2,
   "metadata": {
    "tags": []
   },
   "outputs": [],
   "source": [
    "# Import Dependencies\n",
    "import matplotlib.pyplot as plt\n",
    "import pandas as pd\n",
    "import numpy as np"
   ]
  },
  {
   "cell_type": "code",
   "execution_count": 3,
   "metadata": {
    "tags": []
   },
   "outputs": [
    {
     "data": {
      "text/html": [
       "<div>\n",
       "<style scoped>\n",
       "    .dataframe tbody tr th:only-of-type {\n",
       "        vertical-align: middle;\n",
       "    }\n",
       "\n",
       "    .dataframe tbody tr th {\n",
       "        vertical-align: top;\n",
       "    }\n",
       "\n",
       "    .dataframe thead th {\n",
       "        text-align: right;\n",
       "    }\n",
       "</style>\n",
       "<table border=\"1\" class=\"dataframe\">\n",
       "  <thead>\n",
       "    <tr style=\"text-align: right;\">\n",
       "      <th></th>\n",
       "      <th>Patron Type Code</th>\n",
       "      <th>Patron Type Definition</th>\n",
       "      <th>Total Checkouts</th>\n",
       "      <th>Total Renewals</th>\n",
       "      <th>Age Range</th>\n",
       "      <th>Home Library Code</th>\n",
       "      <th>Home Library Definition</th>\n",
       "      <th>Circulation Active Month</th>\n",
       "      <th>Circulation Active Year</th>\n",
       "      <th>Notice Preference Code</th>\n",
       "      <th>Notice Preference Definition</th>\n",
       "      <th>Provided Email Address</th>\n",
       "      <th>Year Patron Registered</th>\n",
       "      <th>Outside of County</th>\n",
       "      <th>Supervisor District</th>\n",
       "    </tr>\n",
       "  </thead>\n",
       "  <tbody>\n",
       "    <tr>\n",
       "      <th>0</th>\n",
       "      <td>0</td>\n",
       "      <td>ADULT</td>\n",
       "      <td>0</td>\n",
       "      <td>0</td>\n",
       "      <td>20 to 24 years</td>\n",
       "      <td>P1</td>\n",
       "      <td>Park</td>\n",
       "      <td>None</td>\n",
       "      <td>None</td>\n",
       "      <td>z</td>\n",
       "      <td>email</td>\n",
       "      <td>True</td>\n",
       "      <td>2014</td>\n",
       "      <td>False</td>\n",
       "      <td>5.0</td>\n",
       "    </tr>\n",
       "    <tr>\n",
       "      <th>1</th>\n",
       "      <td>0</td>\n",
       "      <td>ADULT</td>\n",
       "      <td>31</td>\n",
       "      <td>22</td>\n",
       "      <td>25 to 34 years</td>\n",
       "      <td>S7</td>\n",
       "      <td>Sunset</td>\n",
       "      <td>April</td>\n",
       "      <td>2016</td>\n",
       "      <td>z</td>\n",
       "      <td>email</td>\n",
       "      <td>True</td>\n",
       "      <td>2010</td>\n",
       "      <td>False</td>\n",
       "      <td>4.0</td>\n",
       "    </tr>\n",
       "    <tr>\n",
       "      <th>2</th>\n",
       "      <td>0</td>\n",
       "      <td>ADULT</td>\n",
       "      <td>0</td>\n",
       "      <td>0</td>\n",
       "      <td>45 to 54 years</td>\n",
       "      <td>P1</td>\n",
       "      <td>Park</td>\n",
       "      <td>None</td>\n",
       "      <td>None</td>\n",
       "      <td>a</td>\n",
       "      <td>print</td>\n",
       "      <td>False</td>\n",
       "      <td>2016</td>\n",
       "      <td>True</td>\n",
       "      <td>NaN</td>\n",
       "    </tr>\n",
       "    <tr>\n",
       "      <th>3</th>\n",
       "      <td>0</td>\n",
       "      <td>ADULT</td>\n",
       "      <td>0</td>\n",
       "      <td>0</td>\n",
       "      <td>25 to 34 years</td>\n",
       "      <td>X</td>\n",
       "      <td>Main Library</td>\n",
       "      <td>None</td>\n",
       "      <td>None</td>\n",
       "      <td>z</td>\n",
       "      <td>email</td>\n",
       "      <td>True</td>\n",
       "      <td>2015</td>\n",
       "      <td>False</td>\n",
       "      <td>3.0</td>\n",
       "    </tr>\n",
       "    <tr>\n",
       "      <th>4</th>\n",
       "      <td>0</td>\n",
       "      <td>ADULT</td>\n",
       "      <td>126</td>\n",
       "      <td>11</td>\n",
       "      <td>45 to 54 years</td>\n",
       "      <td>M2</td>\n",
       "      <td>Marina</td>\n",
       "      <td>January</td>\n",
       "      <td>2016</td>\n",
       "      <td>z</td>\n",
       "      <td>email</td>\n",
       "      <td>True</td>\n",
       "      <td>2003</td>\n",
       "      <td>False</td>\n",
       "      <td>2.0</td>\n",
       "    </tr>\n",
       "  </tbody>\n",
       "</table>\n",
       "</div>"
      ],
      "text/plain": [
       "   Patron Type Code Patron Type Definition  Total Checkouts  Total Renewals  \\\n",
       "0                 0                  ADULT                0               0   \n",
       "1                 0                  ADULT               31              22   \n",
       "2                 0                  ADULT                0               0   \n",
       "3                 0                  ADULT                0               0   \n",
       "4                 0                  ADULT              126              11   \n",
       "\n",
       "        Age Range Home Library Code Home Library Definition  \\\n",
       "0  20 to 24 years                P1                    Park   \n",
       "1  25 to 34 years                S7                  Sunset   \n",
       "2  45 to 54 years                P1                    Park   \n",
       "3  25 to 34 years                 X            Main Library   \n",
       "4  45 to 54 years                M2                  Marina   \n",
       "\n",
       "  Circulation Active Month Circulation Active Year Notice Preference Code  \\\n",
       "0                     None                    None                      z   \n",
       "1                    April                    2016                      z   \n",
       "2                     None                    None                      a   \n",
       "3                     None                    None                      z   \n",
       "4                  January                    2016                      z   \n",
       "\n",
       "  Notice Preference Definition  Provided Email Address  \\\n",
       "0                        email                    True   \n",
       "1                        email                    True   \n",
       "2                        print                   False   \n",
       "3                        email                    True   \n",
       "4                        email                    True   \n",
       "\n",
       "   Year Patron Registered  Outside of County  Supervisor District  \n",
       "0                    2014              False                  5.0  \n",
       "1                    2010              False                  4.0  \n",
       "2                    2016               True                  NaN  \n",
       "3                    2015              False                  3.0  \n",
       "4                    2003              False                  2.0  "
      ]
     },
     "execution_count": 3,
     "metadata": {},
     "output_type": "execute_result"
    }
   ],
   "source": [
    "# Import our data into pandas from CSV\n",
    "file_path = \"../Resources/library_usage.csv\"\n",
    "\n",
    "library_usage_df = pd.read_csv(file_path, low_memory=False)\n",
    "library_usage_df.head()"
   ]
  },
  {
   "cell_type": "code",
   "execution_count": null,
   "metadata": {},
   "outputs": [],
   "source": [
    "# Filter data so it only includes patrons who checked out at least one item\n",
    "library_loans_df = pd.DataFrame(library_usage_df.loc[library_usage_df['Total Checkouts']>0,:])\n",
    "# Split up our data into groups based upon 'Patron Type Definition'\n",
    "patron_groups = library_loans_df.groupby('Patron Type Definition')\n",
    "# Find out how many of each patron type borrowed library items\n",
    "patron_borrows = patron_groups['Total Checkouts'].count\n",
    "# Chart our data, give it a title, and label the axes\n"
   ]
  },
  {
   "cell_type": "markdown",
   "metadata": {},
   "source": [
    "# Bonus!\n",
    "\n",
    "You will now take the same base data frame before and create some code that will allow you to create individual pie charts for each library branch. For this part of the activity, we want you to chart the total 'Total Checkouts' of each library, sorted by patron type. If you are able to, try and come up with a method to do this without using loc or iloc to filter the original data frame! You can use loc to filter group data though.\n",
    "\n",
    "Since there are quite a lot of patron types with minimal checkouts, the pie charts could look messy with overlapping text. You may also like to include a filter to limit the minimum number of total checkouts by patron group."
   ]
  },
  {
   "cell_type": "code",
   "execution_count": null,
   "metadata": {},
   "outputs": [],
   "source": [
    "# Split up our data into groups based upon 'Home Library Definition' and 'Patron Type Definition'\n",
    "\n",
    "# Create a new variable that holds the sum of our groups\n"
   ]
  },
  {
   "cell_type": "code",
   "execution_count": null,
   "metadata": {},
   "outputs": [],
   "source": [
    "# Make a variable called branch and store a value from 'Home Library Definition' in it\n",
    "\n",
    "# Make a variable called min_checkouts that you can change depending on how busy the library branch you've chosen is\n",
    "\n",
    "# Collect the loans of the branch above\n",
    "\n",
    "# filter the data to patron types with greater than the value set for min_checkouts\n",
    "\n",
    "# Create a pie chart based upon the total checkouts (or loans) of that single branch\n",
    "                                                                      \" Branch for Patron Types Over \"\n"
   ]
  },
  {
   "cell_type": "code",
   "execution_count": null,
   "metadata": {},
   "outputs": [],
   "source": []
  }
 ],
 "metadata": {
  "kernelspec": {
   "display_name": "Python 3 (ipykernel)",
   "language": "python",
   "name": "python3"
  },
  "language_info": {
   "codemirror_mode": {
    "name": "ipython",
    "version": 3
   },
   "file_extension": ".py",
   "mimetype": "text/x-python",
   "name": "python",
   "nbconvert_exporter": "python",
   "pygments_lexer": "ipython3",
   "version": "3.10.11"
  }
 },
 "nbformat": 4,
 "nbformat_minor": 4
}
