{
 "cells": [
  {
   "cell_type": "code",
   "execution_count": null,
   "metadata": {},
   "outputs": [],
   "source": [
    "import pandas as pd\n",
    "from pathlib import Path"
   ]
  },
  {
   "cell_type": "code",
   "execution_count": null,
   "metadata": {},
   "outputs": [],
   "source": [
    "# Store filepath in a variable\n",
    "file = Path(\"Resources/Seattle_Housing_Cost_Burden.csv\")\n",
    "file_df = pd.read_csv(file)\n",
    "file_df.head()"
   ]
  },
  {
   "cell_type": "code",
   "execution_count": null,
   "metadata": {},
   "outputs": [],
   "source": [
    "# Check the data types.\n",
    "file_df.dtypes"
   ]
  },
  {
   "cell_type": "code",
   "execution_count": null,
   "metadata": {},
   "outputs": [],
   "source": [
    "# Use Map to format all the columns\n",
    "file_df[\"INCOME\"] = file_df[\"INCOME\"].map(\"${:,.2f}\".format)\n",
    "file_df[\"COSTS\"] = file_df[\"COSTS\"].map(\"${:,.2f}\".format)\n",
    "file_df[\"PERCENT30\"] = (file_df[\"PERCENT30\"]*100).map(\"{:.1f}%\".format)\n",
    "file_df[\"PERCENT3050\"] = (file_df[\"PERCENT3050\"]*100).map(\"{:.1f}%\".format)\n",
    "file_df[\"PERCENT50\"] = (file_df[\"PERCENT50\"]*100).map(\"{:.1f}%\".format)\n",
    "file_df[\"PERCENT_NODATA\"] = (file_df[\"PERCENT_NODATA\"]*100).map(\"{:.1f}%\".format)\n",
    "file_df[\"PERCENT_NOBURDEN\"] = (file_df[\"PERCENT_NOBURDEN\"]*100).map(\"{:.1f}%\".format)\n",
    "file_df[\"TOTAL\"] = file_df[\"TOTAL\"].map(\"{:,}\".format)\n",
    "file_df.head()"
   ]
  },
  {
   "cell_type": "code",
   "execution_count": null,
   "metadata": {},
   "outputs": [],
   "source": [
    "# Mapping has changed the data types of the columns to strings\n",
    "file_df.dtypes"
   ]
  },
  {
   "cell_type": "code",
   "execution_count": null,
   "metadata": {},
   "outputs": [],
   "source": []
  }
 ],
 "metadata": {
  "kernel_info": {
   "name": "python3"
  },
  "kernelspec": {
   "display_name": "Python 3 (ipykernel)",
   "language": "python",
   "name": "python3"
  },
  "language_info": {
   "codemirror_mode": {
    "name": "ipython",
    "version": 3
   },
   "file_extension": ".py",
   "mimetype": "text/x-python",
   "name": "python",
   "nbconvert_exporter": "python",
   "pygments_lexer": "ipython3",
   "version": "3.10.11"
  },
  "nteract": {
   "version": "0.2.0"
  }
 },
 "nbformat": 4,
 "nbformat_minor": 4
}
